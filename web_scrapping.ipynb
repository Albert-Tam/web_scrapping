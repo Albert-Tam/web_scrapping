{
 "cells": [
  {
   "cell_type": "code",
   "execution_count": 338,
   "metadata": {},
   "outputs": [],
   "source": [
    "import requests\n",
    "from bs4 import BeautifulSoup"
   ]
  },
  {
   "cell_type": "code",
   "execution_count": 339,
   "metadata": {},
   "outputs": [
    {
     "name": "stdout",
     "output_type": "stream",
     "text": [
      "200\n",
      "True\n",
      "307\n",
      "418\n",
      "None\n"
     ]
    }
   ],
   "source": [
    "r = requests.get('https://www.trustpilot.com')\n",
    "print(r.status_code)\n",
    "print(r.status_code == requests.codes.ok)\n",
    "print(requests.codes['temporary_redirect'])\n",
    "print(requests.codes.teapot)\n",
    "print(requests.codes['o/'])"
   ]
  },
  {
   "cell_type": "code",
   "execution_count": 340,
   "metadata": {},
   "outputs": [],
   "source": [
    "start = requests.get('https://www.trustpilot.com/review/www.monday.com?')\n",
    "# page = requests.get('https://www.trustpilot.com/review/www.monday.com?page={}')\n",
    "soup = BeautifulSoup(start.content, 'html.parser')\n"
   ]
  },
  {
   "cell_type": "code",
   "execution_count": 341,
   "metadata": {},
   "outputs": [
    {
     "data": {
      "text/plain": [
       "[bs4.element.Doctype,\n",
       " bs4.element.NavigableString,\n",
       " bs4.element.Tag,\n",
       " bs4.element.NavigableString]"
      ]
     },
     "execution_count": 341,
     "metadata": {},
     "output_type": "execute_result"
    }
   ],
   "source": [
    "[type(item) for item in list(soup.children)]"
   ]
  },
  {
   "cell_type": "code",
   "execution_count": 342,
   "metadata": {},
   "outputs": [],
   "source": [
    "html = list(soup.children)[2]\n",
    "body = list(html.children)[3]\n",
    "p = list(body.children)[1]"
   ]
  },
  {
   "cell_type": "markdown",
   "metadata": {},
   "source": [
    "- review card: DONE\n",
    "- Username: DONE\n",
    "- Rating: DONE \n",
    "- Title: DONE\n",
    "- Content: DONE\n",
    "- date:MISSING \n",
    "- Useful score: SKIP\n",
    "- Verified/Invited: MISSING\n",
    "- Number of reviews wrote by customer: DONE\n",
    "- Reply: DONE"
   ]
  },
  {
   "cell_type": "code",
   "execution_count": 343,
   "metadata": {},
   "outputs": [],
   "source": [
    "# review_card = soup.find_all('div', class_='review-card')\n",
    "# first_review = review_card[0]\n",
    "    \n",
    "# first_date = first_review.find('div', class_='review-content-header__dates')\n",
    "# first_date = first_review.find('time')\n",
    "# first_date\n",
    "\n",
    "# first_verified = first_review.find('div', class_='review-label-tooltip-trigger')\n",
    "# print(first_verified)\n",
    "# first_verified = first_review.find('div', class_='review-label-tooltip-trigger')\n",
    "# if first_verified:\n",
    "#     if first_verified.get_text(strip=True) == 'Invited':\n",
    "#         verified_status = 'Invited'\n",
    "#     elif first_verified.get_text(strip=True) == 'Reviewer contacted':\n",
    "#         verified_status = 'Reviewer contacted'\n",
    "#     else:\n",
    "#         verified_status = 'other'\n",
    "# else:\n",
    "#     verified_status = None\n",
    "# print(verified_status)"
   ]
  },
  {
   "cell_type": "code",
   "execution_count": 349,
   "metadata": {},
   "outputs": [],
   "source": [
    "names = []\n",
    "ratings = []\n",
    "titles = []\n",
    "contents = []\n",
    "rev_wrote = []\n",
    "replies = []\n",
    "PAGES = 20\n",
    "COMPANY ='www.monday.com'\n",
    "\n",
    "for p in range(1, PAGES):\n",
    "    page_url = requests.get('https://www.trustpilot.com/review/' + COMPANY + '?page=' + str(p))\n",
    "    soup = BeautifulSoup(page_url.content, 'html.parser')\n",
    "    review_card = soup.find_all('div', class_='review-card')\n",
    "    for review in review_card:\n",
    "        name = review.find('div', class_='consumer-information__name').get_text(strip=True)\n",
    "        names.append(name)\n",
    "        rating = review.find('img').attrs.get('alt')\n",
    "        ratings.append(rating)\n",
    "        title = review.find('a', class_='link link--large link--dark').get_text()\n",
    "        titles.append(title)\n",
    "        if review.find('p', class_='review-content__text'):\n",
    "            content = review.find('p', class_='review-content__text').get_text(strip=True)\n",
    "            \n",
    "        else:\n",
    "            content = None\n",
    "        contents.append(content)\n",
    "        rev_written = review.span.get_text()\n",
    "        rev_wrote.append(rev_written)\n",
    "        reply = review.find('div', class_='review__company-reply')\n",
    "        if reply:\n",
    "            replies.append(True)\n",
    "        else:\n",
    "            replies.append(False)\n",
    "    "
   ]
  },
  {
   "cell_type": "code",
   "execution_count": 350,
   "metadata": {},
   "outputs": [
    {
     "name": "stdout",
     "output_type": "stream",
     "text": [
      "<class 'pandas.core.frame.DataFrame'>\n",
      "RangeIndex: 380 entries, 0 to 379\n",
      "Data columns (total 6 columns):\n",
      " #   Column     Non-Null Count  Dtype \n",
      "---  ------     --------------  ----- \n",
      " 0   names      380 non-null    object\n",
      " 1   ratings    380 non-null    object\n",
      " 2   titles     380 non-null    object\n",
      " 3   contents   366 non-null    object\n",
      " 4   rev_wrote  380 non-null    object\n",
      " 5   replies    380 non-null    bool  \n",
      "dtypes: bool(1), object(5)\n",
      "memory usage: 15.3+ KB\n",
      "None\n",
      "             names             ratings                                 titles  \\\n",
      "0            Igaln       2 stars: Poor              Too expensive too quickly   \n",
      "1  Thomas O'Rourke         1 star: Bad        Way overpriced - look elsewhere   \n",
      "2     Jamie Serafi  5 stars: Excellent                          Great company   \n",
      "3      Lisa Kernow       2 stars: Poor              I USED to love Monday.com   \n",
      "4     Daniel Ehlen         1 star: Bad  I've reset our password to the CRM 3…   \n",
      "\n",
      "                                            contents  rev_wrote  replies  \n",
      "0  Same reason as users below;  $1200/year additi...   1 review     True  \n",
      "1  Here's the review I left while cancelling my s...  3 reviews     True  \n",
      "2  Great company, great product, great customer s...  2 reviews     True  \n",
      "3  I love using Monday.com. Great software, reall...   1 review     True  \n",
      "4  I've reset our password to the CRM 3 times and...   1 review     True  \n"
     ]
    }
   ],
   "source": [
    "import pandas as pd\n",
    "test_df = pd.DataFrame({'names': names,\n",
    "                       'ratings': ratings,\n",
    "                       'titles': titles,\n",
    "                       'contents': contents,\n",
    "                       'rev_wrote': rev_wrote,\n",
    "                       'replies': replies})\n",
    "print(test_df.info())\n",
    "print(test_df.head())"
   ]
  },
  {
   "cell_type": "code",
   "execution_count": 346,
   "metadata": {},
   "outputs": [],
   "source": [
    "test_df.to_csv('reviews.csv')"
   ]
  },
  {
   "cell_type": "code",
   "execution_count": null,
   "metadata": {},
   "outputs": [],
   "source": []
  }
 ],
 "metadata": {
  "kernelspec": {
   "display_name": "Python 3",
   "language": "python",
   "name": "python3"
  },
  "language_info": {
   "codemirror_mode": {
    "name": "ipython",
    "version": 3
   },
   "file_extension": ".py",
   "mimetype": "text/x-python",
   "name": "python",
   "nbconvert_exporter": "python",
   "pygments_lexer": "ipython3",
   "version": "3.7.4"
  }
 },
 "nbformat": 4,
 "nbformat_minor": 4
}
