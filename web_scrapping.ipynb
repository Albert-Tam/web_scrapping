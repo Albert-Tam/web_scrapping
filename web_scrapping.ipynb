{
 "cells": [
  {
   "cell_type": "code",
   "execution_count": 323,
   "metadata": {},
   "outputs": [],
   "source": [
    "import requests\n",
    "from bs4 import BeautifulSoup"
   ]
  },
  {
   "cell_type": "code",
   "execution_count": 302,
   "metadata": {},
   "outputs": [
    {
     "name": "stdout",
     "output_type": "stream",
     "text": [
      "200\n",
      "True\n",
      "307\n",
      "418\n",
      "None\n"
     ]
    }
   ],
   "source": [
    "r = requests.get('https://www.trustpilot.com')\n",
    "print(r.status_code)\n",
    "print(r.status_code == requests.codes.ok)\n",
    "print(requests.codes['temporary_redirect'])\n",
    "print(requests.codes.teapot)\n",
    "print(requests.codes['o/'])"
   ]
  },
  {
   "cell_type": "code",
   "execution_count": 322,
   "metadata": {},
   "outputs": [],
   "source": [
    "start = requests.get('https://www.trustpilot.com/review/www.monday.com?')\n",
    "page = requests.get('https://www.trustpilot.com/review/www.monday.com?page={}')\n",
    "soup = BeautifulSoup(start.content, 'html.parser')\n"
   ]
  },
  {
   "cell_type": "code",
   "execution_count": 320,
   "metadata": {},
   "outputs": [
    {
     "data": {
      "text/plain": [
       "[bs4.element.Doctype,\n",
       " bs4.element.NavigableString,\n",
       " bs4.element.Tag,\n",
       " bs4.element.NavigableString]"
      ]
     },
     "execution_count": 320,
     "metadata": {},
     "output_type": "execute_result"
    }
   ],
   "source": [
    "[type(item) for item in list(soup.children)]"
   ]
  },
  {
   "cell_type": "code",
   "execution_count": 321,
   "metadata": {},
   "outputs": [],
   "source": [
    "html = list(soup.children)[2]\n",
    "body = list(html.children)[3]\n",
    "p = list(body.children)[1]"
   ]
  },
  {
   "cell_type": "markdown",
   "metadata": {},
   "source": [
    "- review card: DONE\n",
    "- Username: DONE\n",
    "- Rating: \n",
    "- Title: DONE\n",
    "- Content: DONE\n",
    "- date\n",
    "- Useful score\n",
    "- Verified/Invited\n",
    "- Number of reviews wrote by customer\n",
    "- Reply?\n",
    "- Customer ID"
   ]
  },
  {
   "cell_type": "code",
   "execution_count": 314,
   "metadata": {},
   "outputs": [
    {
     "data": {
      "text/plain": [
       "bs4.element.ResultSet"
      ]
     },
     "execution_count": 314,
     "metadata": {},
     "output_type": "execute_result"
    }
   ],
   "source": [
    "# REVIEW CARD\n",
    "review_card = soup.find_all('div', class_='review-card')\n",
    "type(review_card)"
   ]
  },
  {
   "cell_type": "code",
   "execution_count": 315,
   "metadata": {},
   "outputs": [],
   "source": [
    "first_review = review_card[2]"
   ]
  },
  {
   "cell_type": "code",
   "execution_count": 316,
   "metadata": {},
   "outputs": [],
   "source": [
    "first_name = first_review.find('div', class_='consumer-information__name').get_text(strip=True)\n",
    "first_rating = first_review.find('img').attrs.get('alt')\n",
    "first_title = first_review.find('a', class_='link link--large link--dark').get_text()\n",
    "first_content = first_review.find('p', class_='review-content__text').get_text(strip=True)\n",
    "\n",
    "first_wrote = first_review.span.get_text()\n",
    "first_reply = first_review.find('div', class_='review__company-reply')\n",
    "if first_reply:\n",
    "    True\n",
    "else:\n",
    "    False\n",
    "    \n",
    "\n",
    "    \n",
    "# first_date = first_review.find('div', class_='review-content-header__dates')\n",
    "# first_date = first_review.find('time')\n",
    "# first_date\n",
    "\n",
    "# first_verified = first_review.find('div', class_='review-label-tooltip-trigger')\n",
    "# print(first_verified)\n",
    "# first_verified = first_review.find('div', class_='review-label-tooltip-trigger')\n",
    "# if first_verified:\n",
    "#     if first_verified.get_text(strip=True) == 'Invited':\n",
    "#         verified_status = 'Invited'\n",
    "#     elif first_verified.get_text(strip=True) == 'Reviewer contacted':\n",
    "#         verified_status = 'Reviewer contacted'\n",
    "#     else:\n",
    "#         verified_status = 'other'\n",
    "# else:\n",
    "#     verified_status = None\n",
    "# print(verified_status)"
   ]
  },
  {
   "cell_type": "code",
   "execution_count": 325,
   "metadata": {},
   "outputs": [],
   "source": [
    "names = []\n",
    "ratings = []\n",
    "titles = []\n",
    "contents = []\n",
    "rev_wrote = []\n",
    "replies = []\n",
    "PAGES = 10\n",
    "\n",
    "# for p in range(1, PAGES):\n",
    "#     soup = BeautifulSoup(page.content, 'html.parser')\n",
    "# #     review_card = soup.find_all('div', class_='review-card')\n",
    "for review in review_card:\n",
    "    name = review.find('div', class_='consumer-information__name').get_text(strip=True)\n",
    "    names.append(name)\n",
    "    rating = review.find('img').attrs.get('alt')\n",
    "    ratings.append(rating)\n",
    "    title = review.find('a', class_='link link--large link--dark').get_text()\n",
    "    titles.append(title)\n",
    "    content = review.find('p', class_='review-content__text').get_text(strip=True)\n",
    "    contents.append(content)\n",
    "    rev_written = review.span.get_text()\n",
    "    rev_wrote.append(rev_written)\n",
    "    reply = review.find('div', class_='review__company-reply')\n",
    "    if reply:\n",
    "        replies.append(True)\n",
    "    else:\n",
    "        replies.append(False)\n",
    "    "
   ]
  },
  {
   "cell_type": "code",
   "execution_count": 326,
   "metadata": {},
   "outputs": [
    {
     "name": "stdout",
     "output_type": "stream",
     "text": [
      "<class 'pandas.core.frame.DataFrame'>\n",
      "RangeIndex: 20 entries, 0 to 19\n",
      "Data columns (total 6 columns):\n",
      " #   Column     Non-Null Count  Dtype \n",
      "---  ------     --------------  ----- \n",
      " 0   names      20 non-null     object\n",
      " 1   ratings    20 non-null     object\n",
      " 2   titles     20 non-null     object\n",
      " 3   contents   20 non-null     object\n",
      " 4   rev_wrote  20 non-null     object\n",
      " 5   replies    20 non-null     bool  \n",
      "dtypes: bool(1), object(5)\n",
      "memory usage: 948.0+ bytes\n",
      "None\n",
      "             names             ratings                                 titles  \\\n",
      "0            Igaln       2 stars: Poor              Too expensive too quickly   \n",
      "1  Thomas O'Rourke         1 star: Bad        Way overpriced - look elsewhere   \n",
      "2     Jamie Serafi  5 stars: Excellent                          Great company   \n",
      "3      Lisa Kernow       2 stars: Poor              I USED to love Monday.com   \n",
      "4     Daniel Ehlen         1 star: Bad  I've reset our password to the CRM 3…   \n",
      "\n",
      "                                            contents  rev_wrote  replies  \n",
      "0  Same reason as users below;  $1200/year additi...   1 review     True  \n",
      "1  Here's the review I left while cancelling my s...  3 reviews     True  \n",
      "2  Great company, great product, great customer s...  2 reviews     True  \n",
      "3  I love using Monday.com. Great software, reall...   1 review     True  \n",
      "4  I've reset our password to the CRM 3 times and...   1 review     True  \n"
     ]
    }
   ],
   "source": [
    "import pandas as pd\n",
    "test_df = pd.DataFrame({'names': names,\n",
    "                       'ratings': ratings,\n",
    "                       'titles': titles,\n",
    "                       'contents': contents,\n",
    "                       'rev_wrote': rev_wrote,\n",
    "                       'replies': replies})\n",
    "print(test_df.info())\n",
    "print(test_df.head())"
   ]
  },
  {
   "cell_type": "code",
   "execution_count": null,
   "metadata": {},
   "outputs": [],
   "source": []
  }
 ],
 "metadata": {
  "kernelspec": {
   "display_name": "Python 3",
   "language": "python",
   "name": "python3"
  },
  "language_info": {
   "codemirror_mode": {
    "name": "ipython",
    "version": 3
   },
   "file_extension": ".py",
   "mimetype": "text/x-python",
   "name": "python",
   "nbconvert_exporter": "python",
   "pygments_lexer": "ipython3",
   "version": "3.7.4"
  }
 },
 "nbformat": 4,
 "nbformat_minor": 4
}
